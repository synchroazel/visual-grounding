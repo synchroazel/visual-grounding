{
 "cells": [
  {
   "cell_type": "code",
   "execution_count": 4,
   "outputs": [
    {
     "name": "stdout",
     "output_type": "stream",
     "text": [
      "[INFO] MPS found, using MPS.\n"
     ]
    }
   ],
   "source": [
    "import clip\n",
    "import numpy as np\n",
    "import torch\n",
    "from PIL import Image\n",
    "from torch.utils.data import random_split\n",
    "from tqdm import tqdm\n",
    "\n",
    "from refcocog import RefCOCOg, RefCOCOgSample\n",
    "\n",
    "if torch.cuda.is_available():\n",
    "    device = torch.device(\"cuda\")  # CUDA GPU\n",
    "    print(\"[INFO] GPU found, using GPU.\")\n",
    "elif torch.has_mps:\n",
    "    device = torch.device(\"mps\")  # Apple Silicon\n",
    "    print(\"[INFO] MPS found, using MPS.\")\n",
    "else:\n",
    "    device = torch.device(\"cpu\")\n",
    "    print(\"[INFO] No GPU found, using CPU instead.\")\n",
    "\n",
    "clip_model, prep = clip.load(\"RN50\", device=device)\n",
    "\n",
    "dataset = RefCOCOg(ds_path='dataset/refcocog')\n"
   ],
   "metadata": {
    "collapsed": false,
    "ExecuteTime": {
     "start_time": "2023-04-18T23:28:53.105689Z",
     "end_time": "2023-04-18T23:28:58.838236Z"
    }
   }
  },
  {
   "cell_type": "code",
   "execution_count": 5,
   "outputs": [],
   "source": [
    "def training_step(model, dataloader, optimizer, cost_function, device='cuda'):\n",
    "    model.train()\n",
    "\n",
    "    for batch in tqdm(dataloader, desc=\"Performing training step\"):\n",
    "\n",
    "        images, captions = [], []\n",
    "\n",
    "        for sample in batch:\n",
    "            sample = RefCOCOgSample(**sample)\n",
    "\n",
    "            image = Image.open(sample.path)\n",
    "            image = prep(image).to(device)\n",
    "\n",
    "            caption = sample.sentences[0]\n",
    "\n",
    "            images.append(image)\n",
    "            captions.append(caption)\n",
    "\n",
    "        captions = clip.tokenize(captions).to(device)\n",
    "        images = torch.stack(images).to(device)\n",
    "\n",
    "        image_logits, text_logits = model(images, captions)\n",
    "\n",
    "        labels = np.arange(images.shape[0])\n",
    "        labels = torch.from_numpy(labels)\n",
    "\n",
    "        loss_i = cost_function(image_logits, labels)\n",
    "        loss_t = cost_function(text_logits, labels)\n",
    "\n",
    "        loss = (loss_i + loss_t) / 2.0\n",
    "\n",
    "    loss = loss.mean()\n",
    "\n",
    "    loss.backward()\n",
    "\n",
    "    optimizer.step()\n",
    "\n",
    "    optimizer.zero_grad()\n",
    "\n",
    "    return loss.item()\n"
   ],
   "metadata": {
    "collapsed": false,
    "ExecuteTime": {
     "start_time": "2023-04-18T23:28:58.839550Z",
     "end_time": "2023-04-18T23:28:58.865195Z"
    }
   }
  },
  {
   "cell_type": "code",
   "execution_count": 6,
   "outputs": [],
   "source": [
    "def test_step(model, dataloader, cost_function, device='cuda'):\n",
    "    model.eval()\n",
    "\n",
    "    with torch.no_grad():\n",
    "\n",
    "        for batch in tqdm(dataloader, desc=\"Performing test step\"):\n",
    "\n",
    "            images, captions = [], []\n",
    "\n",
    "            for sample in batch:\n",
    "                sample = RefCOCOgSample(**sample)\n",
    "\n",
    "                image = Image.open(sample.path)\n",
    "                image = prep(image).to(device)\n",
    "\n",
    "                caption = sample.sentences[0]\n",
    "\n",
    "                images.append(image)\n",
    "                captions.append(caption)\n",
    "\n",
    "            captions = clip.tokenize(captions).to(device)\n",
    "            images = torch.stack(images).to(device)\n",
    "\n",
    "            image_logits, text_logits = model(images, captions)\n",
    "\n",
    "            labels = np.arange(images.shape[0])\n",
    "            labels = torch.from_numpy(labels)\n",
    "\n",
    "            loss_i = cost_function(image_logits, labels)\n",
    "            loss_t = cost_function(text_logits, labels)\n",
    "\n",
    "            loss = (loss_i + loss_t) / 2.0\n",
    "\n",
    "        loss = loss.mean()\n",
    "\n",
    "    return loss.item()\n"
   ],
   "metadata": {
    "collapsed": false,
    "ExecuteTime": {
     "start_time": "2023-04-18T23:28:58.866434Z",
     "end_time": "2023-04-18T23:28:58.893952Z"
    }
   }
  },
  {
   "cell_type": "code",
   "execution_count": null,
   "outputs": [
    {
     "name": "stdout",
     "output_type": "stream",
     "text": [
      "Dataset Size: 9964\n",
      "---\n",
      "Train size 7971\n",
      "Test Size: 1993\n",
      "Before training:\n"
     ]
    },
    {
     "name": "stderr",
     "output_type": "stream",
     "text": [
      "Performing test step:   0%|          | 0/499 [00:00<?, ?it/s]"
     ]
    }
   ],
   "source": [
    "train_split = 0.8\n",
    "\n",
    "# randomly discard 80% of the dataset\n",
    "dataset, _ = random_split(dataset, [int(0.2 * len(dataset)), len(dataset) - int(0.2 * len(dataset))])\n",
    "\n",
    "train_ds, test_ds = random_split(dataset,\n",
    "                                 [int(train_split * len(dataset)), len(dataset) - int(train_split * len(dataset))])\n",
    "\n",
    "print(f\"Dataset Size: {len(dataset)}\\n---\")\n",
    "print(f\"Train size {len(train_ds)}\")\n",
    "print(f\"Test Size: {len(test_ds)}\")\n",
    "\n",
    "train_dl = torch.utils.data.DataLoader(train_ds, batch_size=16, shuffle=True, collate_fn=lambda x: x)\n",
    "\n",
    "test_dl = torch.utils.data.DataLoader(test_ds, batch_size=16, shuffle=True, collate_fn=lambda x: x)\n",
    "\n",
    "optimizer = torch.optim.Adam(clip_model.parameters(), lr=0.0001, weight_decay=0.000001)\n",
    "\n",
    "cost_function = torch.nn.CrossEntropyLoss()\n",
    "\n",
    "epochs = 10\n",
    "\n",
    "# perform a preliminar step\n",
    "print('Before training:')\n",
    "train_loss, train_accuracy = test_step(clip_model, train_dl, cost_function, device=device)\n",
    "test_loss, test_accuracy = test_step(clip_model, test_dl, cost_function, device=device)\n",
    "\n",
    "print('\\tTraining loss {:.5f}, Training accuracy {:.2f}'.format(train_loss, train_accuracy))\n",
    "print('\\tTest loss {:.5f}, Test accuracy {:.2f}'.format(test_loss, test_accuracy))\n",
    "print('-----------------------------------------------------')\n",
    "\n",
    "# range over the number of epochs\n",
    "for e in range(epochs):\n",
    "    train_loss, train_accuracy = training_step(clip_model, train_dl, optimizer, cost_function, device=device)\n",
    "    test_loss, test_accuracy = test_step(clip_model, test_dl, cost_function, device=device)\n",
    "    print('Epoch: {:d}'.format(e + 1))\n",
    "    print('\\tTraining loss {:.5f}, Training accuracy {:.2f}'.format(train_loss, train_accuracy))\n",
    "    print('\\tTest loss {:.5f}, Test accuracy {:.2f}'.format(test_loss, test_accuracy))\n",
    "    print('-----------------------------------------------------')\n",
    "\n",
    "# perform final test step and print the final metrics\n",
    "print('After training:')\n",
    "train_loss, train_accuracy = test_step(clip_model, train_dl, cost_function, device=device)\n",
    "test_loss, test_accuracy = test_step(clip_model, test_dl, cost_function, device=device)\n",
    "\n",
    "print('\\tTraining loss {:.5f}, Training accuracy {:.2f}'.format(train_loss, train_accuracy))\n",
    "print('\\tTest loss {:.5f}, Test accuracy {:.2f}'.format(test_loss, test_accuracy))\n",
    "print('-----------------------------------------------------')\n"
   ],
   "metadata": {
    "collapsed": false,
    "pycharm": {
     "is_executing": true
    }
   }
  }
 ],
 "metadata": {
  "kernelspec": {
   "display_name": "Python 3",
   "language": "python",
   "name": "python3"
  },
  "language_info": {
   "codemirror_mode": {
    "name": "ipython",
    "version": 2
   },
   "file_extension": ".py",
   "mimetype": "text/x-python",
   "name": "python",
   "nbconvert_exporter": "python",
   "pygments_lexer": "ipython2",
   "version": "2.7.6"
  }
 },
 "nbformat": 4,
 "nbformat_minor": 0
}
