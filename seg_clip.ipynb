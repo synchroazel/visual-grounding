{
 "cells": [
  {
   "cell_type": "code",
   "execution_count": null,
   "metadata": {
    "ExecuteTime": {
     "start_time": "2023-05-28T16:52:06.641751Z",
     "end_time": "2023-05-28T16:52:10.723397Z"
    },
    "collapsed": false
   },
   "outputs": [],
   "source": [
    "#@title Import necessary packages and set correct device\n",
    "\n",
    "import numpy as np\n",
    "import torch\n",
    "from torch.utils.data import random_split\n",
    "\n",
    "from modules.clipseg import ClipSeg\n",
    "from modules.refcocog import RefCOCOg, RefCOCOgSample\n",
    "from modules.utilities import visual_grounding_test\n",
    "\n",
    "%matplotlib inline\n",
    "\n",
    "if torch.cuda.is_available():\n",
    "    device = torch.device(\"cuda\")  # CUDA GPU\n",
    "    print(\"[INFO] Using cuda.\")\n",
    "elif torch.has_mps:\n",
    "    device = torch.device(\"mps\")  # Apple Silicon GPU\n",
    "    print(\"[INFO] Using MPS.\")\n",
    "else:\n",
    "    device = torch.device(\"cpu\")\n",
    "    print(\"[INFO] No GPU found, using CPU instead.\")\n"
   ]
  },
  {
   "cell_type": "code",
   "execution_count": null,
   "metadata": {
    "ExecuteTime": {
     "start_time": "2023-05-28T16:52:27.363093Z",
     "end_time": "2023-05-28T16:52:47.838629Z"
    },
    "collapsed": false
   },
   "outputs": [],
   "source": [
    "#@title Import RefCOCOg dataset and its train/val/test splits\n",
    "\n",
    "# data_path = \"/media/dmmp/vid+backup/Data/refcocog\"\n",
    "data_path = \"dataset/refcocog\"\n",
    "\n",
    "dataset = RefCOCOg(ds_path=data_path)\n",
    "\n",
    "train_ds = RefCOCOg(ds_path=data_path, split='train')\n",
    "val_ds = RefCOCOg(ds_path=data_path, split='val')\n",
    "test_ds = RefCOCOg(ds_path=data_path, split='test')\n",
    "\n",
    "# keep only a toy portion of each split\n",
    "keep = 0.1\n",
    "red_dataset, _ = random_split(dataset, [int(keep * len(dataset)), len(dataset) - int(keep * len(dataset))])\n",
    "red_train_ds, _ = random_split(train_ds, [int(keep * len(train_ds)), len(train_ds) - int(keep * len(train_ds))])\n",
    "red_val_ds, _ = random_split(val_ds, [int(keep * len(val_ds)), len(val_ds) - int(keep * len(val_ds))])\n",
    "red_test_ds, _ = random_split(test_ds, [int(keep * len(test_ds)), len(test_ds) - int(keep * len(test_ds))])\n",
    "\n",
    "print(f\"[INFO] Dataset Size: {len(dataset)}\")\n",
    "print(f\"[INFO] train split:  {len(train_ds)}\")\n",
    "print(f\"[INFO] val split:    {len(val_ds)}\")\n",
    "print(f\"[INFO] test split:   {len(test_ds)}\")\n"
   ]
  },
  {
   "cell_type": "code",
   "execution_count": null,
   "outputs": [],
   "source": [
    "#@title Initialize ClipSeg pipeline\n",
    "\n",
    "clipseg = ClipSeg(dataset.categories, method=\"w\", n_segments=(4, 8, 16, 32), q=0.75, quiet=True, device=device)\n"
   ],
   "metadata": {
    "collapsed": false,
    "ExecuteTime": {
     "start_time": "2023-05-28T16:52:51.300501Z",
     "end_time": "2023-05-28T16:53:00.200853Z"
    }
   }
  },
  {
   "cell_type": "code",
   "execution_count": null,
   "metadata": {
    "ExecuteTime": {
     "start_time": "2023-05-27T14:37:21.786819Z",
     "end_time": "2023-05-27T14:37:30.199188Z"
    },
    "collapsed": false
   },
   "outputs": [],
   "source": [
    "#@tile Test ClipSeg on a random sample\n",
    "\n",
    "idx = np.random.randint(0, len(dataset))\n",
    "\n",
    "sample = RefCOCOgSample(**dataset[idx])\n",
    "\n",
    "clipseg(sample, sample.sentences[0], show_pipeline=False, show_masks=False, show=False, timeit=True)\n"
   ]
  },
  {
   "cell_type": "markdown",
   "metadata": {
    "collapsed": false
   },
   "source": [
    "---"
   ]
  },
  {
   "cell_type": "code",
   "execution_count": null,
   "metadata": {
    "collapsed": false,
    "ExecuteTime": {
     "start_time": "2023-05-28T16:53:24.887524Z",
     "end_time": "2023-05-28T16:54:51.877075Z"
    }
   },
   "outputs": [],
   "source": [
    "#@title Execute testing on the test dataset\n",
    "\n",
    "visual_grounding_test(clipseg, red_test_ds)\n"
   ]
  }
 ],
 "metadata": {
  "kernelspec": {
   "display_name": "Python 3",
   "language": "python",
   "name": "python3"
  },
  "language_info": {
   "codemirror_mode": {
    "name": "ipython",
    "version": 2
   },
   "file_extension": ".py",
   "mimetype": "text/x-python",
   "name": "python",
   "nbconvert_exporter": "python",
   "pygments_lexer": "ipython2",
   "version": "2.7.6"
  }
 },
 "nbformat": 4,
 "nbformat_minor": 0
}
